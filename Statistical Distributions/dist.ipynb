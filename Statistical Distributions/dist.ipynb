{
 "cells": [
  {
   "cell_type": "code",
   "execution_count": null,
   "metadata": {},
   "outputs": [],
   "source": [
    "import sympy as sy\n",
    "import scipy as sp\n",
    "import numpy as np\n",
    "import random as rd\n",
    "import plotly as py\n",
    "from ipywidgets import interact\n",
    "from matplotlib import pyplot\n",
    "from stat_dist import *"
   ]
  },
  {
   "cell_type": "markdown",
   "metadata": {},
   "source": [
    "##### Gaussian distribution is:\n",
    "\n",
    "\n",
    "$$ f(x; \\mu, \\sigma) = \\frac{1}{\\sqrt{2 \\pi \\sigma^2}}  e^{-\\frac{(x-\\mu)^2}{2\\sigma}}$$\n",
    "\n",
    "where $\\mu$ is mean value ($1^{st}$ moment) and $\\sigma$ is standard deviation (square rot of $2^{nd}$ moment)."
   ]
  },
  {
   "cell_type": "code",
   "execution_count": null,
   "metadata": {},
   "outputs": [],
   "source": [
    "N = int(input())\n",
    "l, r = map(float, input().split())"
   ]
  },
  {
   "cell_type": "code",
   "execution_count": null,
   "metadata": {},
   "outputs": [],
   "source": [
    "def g(mu, sigma):\n",
    "    x = gauss(mu-3*sigma, mu+3*sigma, mu, sigma, N)\n",
    "    stat(x, mu-3*sigma, mu+3*sigma, 0.001, N)\n",
    "    \n",
    "interact(g, mu = (-10, 10, 0.01), sigma = (0.01, 10, 0.01))"
   ]
  },
  {
   "cell_type": "markdown",
   "metadata": {},
   "source": [
    "#### Uniform distribution on set $\\Omega$ is:\n",
    "\n",
    "$$p(x; \\Omega) = \\frac{1}{\\mu(\\Omega)}$$\n",
    "\n",
    "where $\\mu(\\Omega) = \\int_{\\Omega} d\\mu$ is Lebesgue measure of a set $\\Omega$. \n",
    "\n",
    "For example:\n",
    "1. $\\Omega = [a,b]$: $$p(x) = \\frac{1}{b-a}$$,\n",
    "2. $\\Omega = \\{a_1,a_2,...,a_N\\}$: $$p(a_i) = \\frac{1}{N}$$\n",
    "\n",
    "and so on...\n",
    "\n"
   ]
  },
  {
   "cell_type": "code",
   "execution_count": null,
   "metadata": {},
   "outputs": [],
   "source": [
    "N = int(input())\n",
    "l, r = map(float, input().split())\n",
    "x = uniform(l, r, N)\n",
    "stat(x, l, r, 0.001, N)"
   ]
  },
  {
   "cell_type": "markdown",
   "metadata": {},
   "source": [
    "#### Gamma distribution is:\n",
    "\n",
    "$$f(x; \\alpha, \\beta) = \\frac{\\beta^{\\alpha} x^{\\alpha-1}e^{-\\beta x}}{\\Gamma(\\alpha)}$$"
   ]
  },
  {
   "cell_type": "code",
   "execution_count": null,
   "metadata": {},
   "outputs": [],
   "source": [
    "N = int(input())\n",
    "h = float(input())"
   ]
  },
  {
   "cell_type": "code",
   "execution_count": null,
   "metadata": {},
   "outputs": [],
   "source": [
    "def gam(alfa, beta):\n",
    "    x = gamma(h, alfa, beta, N)\n",
    "    stat(x, 0, h, 0.001, N)\n",
    "    \n",
    "interact(gam, alfa = (0.01, 10, 0.01), beta = (0.01, 10, 0.01))"
   ]
  },
  {
   "cell_type": "markdown",
   "metadata": {},
   "source": [
    "stat_dist.py contains some more probability distribution functions, whose graphs can be constructed in the same maneer."
   ]
  },
  {
   "cell_type": "code",
   "execution_count": null,
   "metadata": {},
   "outputs": [],
   "source": []
  }
 ],
 "metadata": {
  "kernelspec": {
   "display_name": "Python 3",
   "language": "python",
   "name": "python3"
  },
  "language_info": {
   "codemirror_mode": {
    "name": "ipython",
    "version": 3
   },
   "file_extension": ".py",
   "mimetype": "text/x-python",
   "name": "python",
   "nbconvert_exporter": "python",
   "pygments_lexer": "ipython3",
   "version": "3.6.5"
  }
 },
 "nbformat": 4,
 "nbformat_minor": 2
}
